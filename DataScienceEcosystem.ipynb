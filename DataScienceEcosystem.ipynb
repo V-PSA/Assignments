{
 "cells": [
  {
   "cell_type": "markdown",
   "id": "6d8c2dba-bf61-475b-9717-8c59c2d6f221",
   "metadata": {},
   "source": [
    "# Data Science Tools and Ecosystem"
   ]
  },
  {
   "cell_type": "markdown",
   "id": "813cfc24-1657-4c9a-b7f7-ca54c552172f",
   "metadata": {},
   "source": [
    "## Author\n",
    "Markos Mpotsaris"
   ]
  },
  {
   "cell_type": "markdown",
   "id": "05900409-5584-45ba-a160-8aff371bdcb1",
   "metadata": {},
   "source": [
    "In this notebook, Data Science Tools and Ecosystem are summarized."
   ]
  },
  {
   "cell_type": "markdown",
   "id": "4a8b2ed0-c6a5-435d-b517-a416cbe007cf",
   "metadata": {},
   "source": [
    "<b>Objectives:</b></br>\n",
    "<ul><li>List popular languages for Data Science</li><li>List commonly used libraries for Data Science</li><li>Present opensource data science environments in a table</li><li>Do math expressions by execution of code</li></ul>"
   ]
  },
  {
   "cell_type": "markdown",
   "id": "a7ac6c8a-060e-46ba-a8cc-ad424ffd30ce",
   "metadata": {},
   "source": [
    "Some of the popular languages that Data Scientists use are: </br>\n",
    "<ol><li>Python</li><li>R</li><li>SQL</li><li>Scala</li></ol>"
   ]
  },
  {
   "cell_type": "markdown",
   "id": "71b5c0bd-d30f-4b4c-aed9-e09e13de0cac",
   "metadata": {},
   "source": [
    "Some of the commonly used libraries used by Data Scientists include: </br>\n",
    "<ol><li>TensorFlow</li><li>NumPy</li><li>SciPy</li><li>Pandas</li></ol>"
   ]
  },
  {
   "cell_type": "markdown",
   "id": "20047207-ff7a-46ee-9c0e-ebf01d080e67",
   "metadata": {},
   "source": [
    "| Data Science Tools |\n",
    "| ------ |\n",
    "| Jupyter Notebooks |\n",
    "| R Studio IDE |\n",
    "| Github |"
   ]
  },
  {
   "cell_type": "markdown",
   "id": "e0fd7794-e141-4851-ba79-ddcd0f400fd5",
   "metadata": {},
   "source": [
    "### Below are a few examples of evaluating arithmetic expressions in Python."
   ]
  },
  {
   "cell_type": "code",
   "execution_count": 3,
   "id": "d2740ad6-ab6e-48ba-a3cb-8483aa3bb34e",
   "metadata": {},
   "outputs": [
    {
     "data": {
      "text/plain": [
       "17"
      ]
     },
     "execution_count": 3,
     "metadata": {},
     "output_type": "execute_result"
    }
   ],
   "source": [
    "# This a simple arithmetic expression to mutiply then add integers.\n",
    "(3*4)+5"
   ]
  },
  {
   "cell_type": "code",
   "execution_count": 4,
   "id": "8ca5a7e5-af35-4419-80ab-15b2c8e9d304",
   "metadata": {},
   "outputs": [
    {
     "data": {
      "text/plain": [
       "3.3333333333333335"
      ]
     },
     "execution_count": 4,
     "metadata": {},
     "output_type": "execute_result"
    }
   ],
   "source": [
    "# This will convert 200 minutes to hours by diving by 60\n",
    "200 / 60"
   ]
  }
 ],
 "metadata": {
  "kernelspec": {
   "display_name": "Python",
   "language": "python",
   "name": "conda-env-python-py"
  },
  "language_info": {
   "codemirror_mode": {
    "name": "ipython",
    "version": 3
   },
   "file_extension": ".py",
   "mimetype": "text/x-python",
   "name": "python",
   "nbconvert_exporter": "python",
   "pygments_lexer": "ipython3",
   "version": "3.7.12"
  }
 },
 "nbformat": 4,
 "nbformat_minor": 5
}
