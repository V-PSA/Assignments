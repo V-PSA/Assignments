{
 "cells": [
  {
   "cell_type": "markdown",
   "id": "c404a63b-76cb-452e-9d87-35bdad170a8d",
   "metadata": {},
   "source": [
    "# My Jupyter Notebook on IBM Watson Studio"
   ]
  },
  {
   "cell_type": "markdown",
   "id": "f0c10b2d-ab66-4b41-8374-3cc317337336",
   "metadata": {},
   "source": [
    "<strong>Markos Mpotsaris</strong></br>\n",
    "Data analyst in finance products."
   ]
  },
  {
   "cell_type": "markdown",
   "id": "bae51678-880e-4bf7-b2ed-ea84f60a4f51",
   "metadata": {},
   "source": [
    "<em>I am interested in data science because it can help to discover valueable information to increase the productivity of my company. Also, it is a field with great potential.</em>"
   ]
  },
  {
   "cell_type": "markdown",
   "id": "6b905a71-458c-4b7c-b698-46125ac321a8",
   "metadata": {},
   "source": [
    "### My code stores the number 4 at variable \"x\" and the number 3 at variable \"y\". Then, multiplies x with y and stores the result in variable \"f\". Finally, it prints the number stored in variable \"f\"."
   ]
  },
  {
   "cell_type": "code",
   "execution_count": 7,
   "id": "4dfa8cab-000a-4910-82a1-72645ed73b81",
   "metadata": {},
   "outputs": [
    {
     "name": "stdout",
     "output_type": "stream",
     "text": [
      "12\n"
     ]
    }
   ],
   "source": [
    "x=4\n",
    "y=3\n",
    "f=x*y\n",
    "print(f)"
   ]
  },
  {
   "cell_type": "markdown",
   "id": "6e1da759-d61c-494f-9c47-05d264110af2",
   "metadata": {
    "tags": []
   },
   "source": [
    "Below is a horizontal rule\n",
    "<hr>\n",
    "Following, you can find a list of my favorite fruits:\n",
    "<ul><li><a href=\"https://www.britannica.com/plant/apple-fruit-and-tree\">apple</a></li><li>pear</li><li>peach</li><li>banana</li><li>watermelon</li></ul>\n",
    "At the next list there are the months of the year arranged according to their order.\n",
    "<ol><li>January</li><li>February</li><li>March</li><li>April</li><li>May</li><li>June</li><li>July</li><li>August</li><li>September</li><li>October</li><li>November</li><li>December</li></ol>\n",
    "<table><tr><td>Hello</td><td>There</td></tr><tr><td>Second row</td><td>second column</td></tr></table>"
   ]
  }
 ],
 "metadata": {
  "kernelspec": {
   "display_name": "Python",
   "language": "python",
   "name": "conda-env-python-py"
  },
  "language_info": {
   "codemirror_mode": {
    "name": "ipython",
    "version": 3
   },
   "file_extension": ".py",
   "mimetype": "text/x-python",
   "name": "python",
   "nbconvert_exporter": "python",
   "pygments_lexer": "ipython3",
   "version": "3.7.12"
  }
 },
 "nbformat": 4,
 "nbformat_minor": 5
}
